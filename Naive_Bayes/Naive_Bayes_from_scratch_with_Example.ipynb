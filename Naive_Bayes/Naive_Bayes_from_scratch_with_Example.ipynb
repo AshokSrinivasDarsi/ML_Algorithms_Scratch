{
 "cells": [
  {
   "cell_type": "markdown",
   "metadata": {},
   "source": [
    "# Question 1\n",
    "\n",
    "Aim: Classification using Naive Bayes classifier\n",
    "● Apply Naive bayes classifier assuming all features are independent.\n",
    "Do not use any predefined library for classification\n",
    "Report overall accuracy, class wise accuracy, confusion matrix and ROC curve."
   ]
  },
  {
   "cell_type": "code",
   "execution_count": 1,
   "metadata": {},
   "outputs": [],
   "source": [
    "import pandas as pd\n",
    "import numpy as np\n",
    "import math\n",
    "import matplotlib.pyplot as plt"
   ]
  },
  {
   "cell_type": "code",
   "execution_count": 2,
   "metadata": {},
   "outputs": [],
   "source": [
    "!cd C:\\Users\\lenovo"
   ]
  },
  {
   "cell_type": "code",
   "execution_count": 3,
   "metadata": {},
   "outputs": [],
   "source": [
    "df = pd.read_csv('Iris.csv')"
   ]
  },
  {
   "cell_type": "code",
   "execution_count": 4,
   "metadata": {},
   "outputs": [],
   "source": [
    "classes = list(df['Species'].value_counts().index)\n",
    "classes_encode = [0,1,2]"
   ]
  },
  {
   "cell_type": "code",
   "execution_count": 5,
   "metadata": {},
   "outputs": [],
   "source": [
    "labels = dict(zip(classes,classes_encode))"
   ]
  },
  {
   "cell_type": "code",
   "execution_count": 6,
   "metadata": {},
   "outputs": [],
   "source": [
    "def target_encode(x):\n",
    "    return labels[x]\n",
    "df['Target'] = df['Species'].apply(target_encode)"
   ]
  },
  {
   "cell_type": "code",
   "execution_count": 7,
   "metadata": {},
   "outputs": [
    {
     "data": {
      "text/plain": [
       "{'Iris-setosa': 0, 'Iris-virginica': 1, 'Iris-versicolor': 2}"
      ]
     },
     "execution_count": 7,
     "metadata": {},
     "output_type": "execute_result"
    }
   ],
   "source": [
    "labels"
   ]
  },
  {
   "cell_type": "code",
   "execution_count": 8,
   "metadata": {},
   "outputs": [
    {
     "data": {
      "text/plain": [
       "Iris-setosa        50\n",
       "Iris-virginica     50\n",
       "Iris-versicolor    50\n",
       "Name: Species, dtype: int64"
      ]
     },
     "execution_count": 8,
     "metadata": {},
     "output_type": "execute_result"
    }
   ],
   "source": [
    "df['Species'].value_counts()"
   ]
  },
  {
   "cell_type": "markdown",
   "metadata": {},
   "source": [
    "# Naive bayes classifier"
   ]
  },
  {
   "cell_type": "code",
   "execution_count": 9,
   "metadata": {},
   "outputs": [],
   "source": [
    "\n",
    "class NaiveBayes:\n",
    "    def __init__(self, data, cols, target, labels):\n",
    "        self.data = data\n",
    "        self.cols = cols\n",
    "        self.target = target\n",
    "        self.labels = labels\n",
    "\n",
    "    def fit(self,Report=False):\n",
    "        schema = dict()\n",
    "        for col in self.cols:\n",
    "            for i,j in self.labels.items():\n",
    "                dsc = dict(self.data[self.data[self.target]==i][col].describe())\n",
    "                schema[str(self.cols.index(col))+'_'+str(j)+'_mean'] = dsc['mean']\n",
    "                if Report==True:\n",
    "                    print('mean of class '+str(j)+' for feature '+col+' is '+str(dsc['mean']))\n",
    "                schema[str(self.cols.index(col))+'_'+str(j)+'_std'] = dsc['std']\n",
    "                if Report==True:\n",
    "                    print('std of class '+str(j)+' for feature '+col+' is '+str(dsc['std']))\n",
    "            if Report==True:\n",
    "                print('*'*75)\n",
    "        for i,j in self.labels.items():\n",
    "            schema[j] = self.data[self.data[self.target]==i].shape[0]/self.data.shape[0]\n",
    "            if Report==True:\n",
    "                print('class '+str(j)+' prior '+str(schema[j]))\n",
    "        return schema\n",
    "\n",
    "    def normal_distribution(self,mean,std,x):\n",
    "           return (1/(np.sqrt(2*3.14)*std))*(math.exp(-0.5*(((x-mean)/std)**2)))\n",
    "\n",
    "    def predict(self,algo,rows,classes_c):\n",
    "        predicts =[]\n",
    "        proba = []\n",
    "        for row in rows:\n",
    "            prob =[]\n",
    "            for c in range(0,classes_c):\n",
    "                sub=[]\n",
    "                for i in range(0,len(row)):\n",
    "                    mn = algo[str(i)+'_'+str(c)+'_mean']\n",
    "                    std = algo[str(i)+'_'+str(c)+'_std']\n",
    "                    sub.append(self.normal_distribution(mn,std,row[i]))\n",
    "                sub.append(algo[c])\n",
    "                prob.append(np.prod(sub))\n",
    "            predicts.append(np.argmax(prob))\n",
    "            proba.append(([(i/sum(prob)) for i in prob]))\n",
    "        return predicts, proba"
   ]
  },
  {
   "cell_type": "code",
   "execution_count": 10,
   "metadata": {},
   "outputs": [],
   "source": [
    "NB = NaiveBayes(df,['SepalLengthCm','SepalWidthCm','PetalLengthCm','PetalWidthCm'],'Species',labels)\n",
    "model = NB.fit()"
   ]
  },
  {
   "cell_type": "code",
   "execution_count": 11,
   "metadata": {},
   "outputs": [],
   "source": [
    "features = df[['SepalLengthCm','SepalWidthCm','PetalLengthCm','PetalWidthCm']].values"
   ]
  },
  {
   "cell_type": "code",
   "execution_count": 12,
   "metadata": {},
   "outputs": [],
   "source": [
    "preds, pblty = NB.predict(model,features,3)"
   ]
  },
  {
   "cell_type": "code",
   "execution_count": 13,
   "metadata": {},
   "outputs": [],
   "source": [
    "df['Predictions'] = preds"
   ]
  },
  {
   "cell_type": "code",
   "execution_count": 14,
   "metadata": {},
   "outputs": [],
   "source": [
    "def trigger(x,y):\n",
    "    if x==y:\n",
    "        return 1\n",
    "    else:\n",
    "        return 0\n",
    "    "
   ]
  },
  {
   "cell_type": "code",
   "execution_count": 15,
   "metadata": {},
   "outputs": [],
   "source": [
    "df['Trigger'] = df.apply(lambda x : trigger(x['Target'],x['Predictions']), axis=1)"
   ]
  },
  {
   "cell_type": "code",
   "execution_count": 16,
   "metadata": {},
   "outputs": [
    {
     "data": {
      "text/plain": [
       "1    144\n",
       "0      6\n",
       "Name: Trigger, dtype: int64"
      ]
     },
     "execution_count": 16,
     "metadata": {},
     "output_type": "execute_result"
    }
   ],
   "source": [
    "df['Trigger'].value_counts()"
   ]
  },
  {
   "cell_type": "code",
   "execution_count": 17,
   "metadata": {},
   "outputs": [
    {
     "data": {
      "text/plain": [
       "<AxesSubplot:>"
      ]
     },
     "execution_count": 17,
     "metadata": {},
     "output_type": "execute_result"
    },
    {
     "data": {
      "image/png": "[encoded data removed]",
      "text/plain": [
       "<Figure size 432x288 with 1 Axes>"
      ]
     },
     "metadata": {
      "needs_background": "light"
     },
     "output_type": "display_data"
    }
   ],
   "source": [
    "df['Predictions'].value_counts().plot.bar()"
   ]
  },
  {
   "cell_type": "markdown",
   "metadata": {},
   "source": [
    "# overall accuracy"
   ]
  },
  {
   "cell_type": "code",
   "execution_count": 18,
   "metadata": {},
   "outputs": [],
   "source": [
    "overall_accuracy = df[df['Trigger']==1].shape[0]/df.shape[0]"
   ]
  },
  {
   "cell_type": "code",
   "execution_count": 19,
   "metadata": {},
   "outputs": [
    {
     "name": "stdout",
     "output_type": "stream",
     "text": [
      "overall_accuracy 96.0\n"
     ]
    }
   ],
   "source": [
    "print('overall_accuracy', overall_accuracy*100)"
   ]
  },
  {
   "cell_type": "markdown",
   "metadata": {},
   "source": [
    "# class wise overall accuracy"
   ]
  },
  {
   "cell_type": "code",
   "execution_count": 20,
   "metadata": {},
   "outputs": [
    {
     "name": "stdout",
     "output_type": "stream",
     "text": [
      "Iris-setosa class accuracy 1.0\n",
      "Iris-virginica class accuracy 0.94\n",
      "Iris-versicolor class accuracy 0.94\n"
     ]
    }
   ],
   "source": [
    "for i,j in labels.items():\n",
    "    new_df = df[df['Species']==i]\n",
    "    print(i+' class accuracy', new_df[new_df['Trigger']==1].shape[0]/new_df.shape[0])"
   ]
  },
  {
   "cell_type": "markdown",
   "metadata": {},
   "source": [
    "# confusion matrix"
   ]
  },
  {
   "cell_type": "code",
   "execution_count": 21,
   "metadata": {},
   "outputs": [
    {
     "data": {
      "text/html": [
       "<div>\n",
       "<style scoped>\n",
       "    .dataframe tbody tr th:only-of-type {\n",
       "        vertical-align: middle;\n",
       "    }\n",
       "\n",
       "    .dataframe tbody tr th {\n",
       "        vertical-align: top;\n",
       "    }\n",
       "\n",
       "    .dataframe thead th {\n",
       "        text-align: right;\n",
       "    }\n",
       "</style>\n",
       "<table border=\"1\" class=\"dataframe\">\n",
       "  <thead>\n",
       "    <tr style=\"text-align: right;\">\n",
       "      <th>Predictions</th>\n",
       "      <th>0</th>\n",
       "      <th>1</th>\n",
       "      <th>2</th>\n",
       "    </tr>\n",
       "    <tr>\n",
       "      <th>Target</th>\n",
       "      <th></th>\n",
       "      <th></th>\n",
       "      <th></th>\n",
       "    </tr>\n",
       "  </thead>\n",
       "  <tbody>\n",
       "    <tr>\n",
       "      <th>0</th>\n",
       "      <td>50</td>\n",
       "      <td>0</td>\n",
       "      <td>0</td>\n",
       "    </tr>\n",
       "    <tr>\n",
       "      <th>1</th>\n",
       "      <td>0</td>\n",
       "      <td>47</td>\n",
       "      <td>3</td>\n",
       "    </tr>\n",
       "    <tr>\n",
       "      <th>2</th>\n",
       "      <td>0</td>\n",
       "      <td>3</td>\n",
       "      <td>47</td>\n",
       "    </tr>\n",
       "  </tbody>\n",
       "</table>\n",
       "</div>"
      ],
      "text/plain": [
       "Predictions   0   1   2\n",
       "Target                 \n",
       "0            50   0   0\n",
       "1             0  47   3\n",
       "2             0   3  47"
      ]
     },
     "execution_count": 21,
     "metadata": {},
     "output_type": "execute_result"
    }
   ],
   "source": [
    "pd.crosstab(df['Target'],df['Predictions'])"
   ]
  },
  {
   "cell_type": "markdown",
   "metadata": {},
   "source": [
    "# Class wise ROC Curve"
   ]
  },
  {
   "cell_type": "code",
   "execution_count": 22,
   "metadata": {},
   "outputs": [],
   "source": [
    "def on_2_rest(l,ind,actual,t):\n",
    "    roc_prob=[]\n",
    "    pred_prob = []\n",
    "    prob_list = [i[ind] for i in l]\n",
    "    for i in prob_list:\n",
    "        roc_prob.append(1-i)\n",
    "    for i in range(0,len(actual)):\n",
    "        if actual[i] == ind:\n",
    "            actual[i] = 0\n",
    "        else:\n",
    "            actual[i] = 1\n",
    "    for i in roc_prob:\n",
    "        if i>t:\n",
    "            pred_prob.append(1)\n",
    "        else:\n",
    "            pred_prob.append(0)\n",
    "    return actual, roc_prob, pred_prob\n",
    "\n",
    "def fpr_tpr(l,ind,actual,t):\n",
    "    roc_actual, roc_prob, pred_prob = on_2_rest(l,ind,actual,t)\n",
    "    tp=0; tn=0; fp=0; fn=0\n",
    "    dummy = pd.DataFrame()\n",
    "    dummy['roc_actual'] = roc_actual\n",
    "    dummy['pred_prob'] = pred_prob\n",
    "    for index, instn in dummy.iterrows():\n",
    "        act = instn['roc_actual']\n",
    "        prob = instn['pred_prob']\n",
    "        if (act == 0) & (prob == 0):\n",
    "            tp=tp+1\n",
    "        elif (act == 1) & (prob == 1):\n",
    "            tn=tn+1\n",
    "        elif (act == 0) & (prob == 1):\n",
    "            fp=fp+1\n",
    "        else:\n",
    "            fn=fn+1\n",
    "    tpr = tp / (tp+fn)\n",
    "    fpr = fp / (fp+tn)\n",
    "    return fpr, tpr, roc_actual, roc_prob"
   ]
  },
  {
   "cell_type": "code",
   "execution_count": 26,
   "metadata": {},
   "outputs": [
    {
     "name": "stdout",
     "output_type": "stream",
     "text": [
      "1.0\n",
      "0.9924\n",
      "0.9924000000000001\n"
     ]
    },
    {
     "data": {
      "text/plain": [
       "Text(0.5, 1.0, 'Receiver operating characteristic example')"
      ]
     },
     "execution_count": 26,
     "metadata": {},
     "output_type": "execute_result"
    },
    {
     "data": {
      "image/png": "[encoded data removed]",
      "text/plain": [
       "<Figure size 432x288 with 1 Axes>"
      ]
     },
     "metadata": {
      "needs_background": "light"
     },
     "output_type": "display_data"
    }
   ],
   "source": [
    "for i in [0,1,2]:\n",
    "    threshold=[]\n",
    "    fpr_l=[]\n",
    "    tpr_l=[]\n",
    "    threshold.append(0.0)\n",
    "    fpr_l.append(1.0)\n",
    "    tpr_l.append(1.0)\n",
    "    for t in np.array(list(range(1,100,1)))/100:\n",
    "        fpr, tpr, _, _ = fpr_tpr(pblty,i,df['Target'].values.tolist(),t)\n",
    "        threshold.append(t)\n",
    "        fpr_l.append(fpr)\n",
    "        tpr_l.append(tpr)\n",
    "    threshold.append(2.0)\n",
    "    fpr_l.append(0.0)\n",
    "    tpr_l.append(0.0)\n",
    "    new_df = pd.DataFrame()\n",
    "    new_df['threshold'] = threshold\n",
    "    new_df['x'] = fpr_l\n",
    "    new_df['y'] = tpr_l\n",
    "    plt.plot(new_df.x,new_df.y, label='class'+str(i)+' AUC '+str(round(1-abs(np.trapz(new_df.x,new_df.y)),3)))\n",
    "    plt.plot([0,1])\n",
    "    plt.legend(loc=\"lower right\")\n",
    "plt.xlabel('False Positive Rate')\n",
    "plt.ylabel('True Positive Rate')\n",
    "plt.title('Receiver operating characteristic example')"
   ]
  },
  {
   "cell_type": "code",
   "execution_count": null,
   "metadata": {},
   "outputs": [],
   "source": []
  },
  {
   "cell_type": "code",
   "execution_count": null,
   "metadata": {},
   "outputs": [],
   "source": []
  },
  {
   "cell_type": "code",
   "execution_count": null,
   "metadata": {},
   "outputs": [],
   "source": []
  },
  {
   "cell_type": "code",
   "execution_count": null,
   "metadata": {},
   "outputs": [],
   "source": []
  },
  {
   "cell_type": "markdown",
   "metadata": {},
   "source": [
    "# Question 2\n",
    "Shuffle the data with seed value 42 and perform a 70- 30 stratified split of the data into a train and test set.\n",
    "Also, plot the class-wise distribution of data in the train and test set (one for train set and one for test set).\n",
    "Compare the distributions. Now, perform classification as follows:"
   ]
  },
  {
   "cell_type": "markdown",
   "metadata": {},
   "source": [
    "# a)\n",
    "Train a Gaussian Naive Bayes classifier and report (a) the class priors, (b) mean and variance of\n",
    "each feature per class."
   ]
  },
  {
   "cell_type": "code",
   "execution_count": 505,
   "metadata": {},
   "outputs": [],
   "source": [
    "from sklearn.datasets import load_wine\n",
    "data = load_wine()"
   ]
  },
  {
   "cell_type": "code",
   "execution_count": 506,
   "metadata": {},
   "outputs": [
    {
     "data": {
      "text/html": [
       "<div>\n",
       "<style scoped>\n",
       "    .dataframe tbody tr th:only-of-type {\n",
       "        vertical-align: middle;\n",
       "    }\n",
       "\n",
       "    .dataframe tbody tr th {\n",
       "        vertical-align: top;\n",
       "    }\n",
       "\n",
       "    .dataframe thead th {\n",
       "        text-align: right;\n",
       "    }\n",
       "</style>\n",
       "<table border=\"1\" class=\"dataframe\">\n",
       "  <thead>\n",
       "    <tr style=\"text-align: right;\">\n",
       "      <th></th>\n",
       "      <th>alcohol</th>\n",
       "      <th>malic_acid</th>\n",
       "      <th>ash</th>\n",
       "      <th>alcalinity_of_ash</th>\n",
       "      <th>magnesium</th>\n",
       "      <th>total_phenols</th>\n",
       "      <th>flavanoids</th>\n",
       "      <th>nonflavanoid_phenols</th>\n",
       "      <th>proanthocyanins</th>\n",
       "      <th>color_intensity</th>\n",
       "      <th>hue</th>\n",
       "      <th>od280/od315_of_diluted_wines</th>\n",
       "      <th>proline</th>\n",
       "      <th>target</th>\n",
       "    </tr>\n",
       "  </thead>\n",
       "  <tbody>\n",
       "    <tr>\n",
       "      <th>0</th>\n",
       "      <td>14.23</td>\n",
       "      <td>1.71</td>\n",
       "      <td>2.43</td>\n",
       "      <td>15.6</td>\n",
       "      <td>127.0</td>\n",
       "      <td>2.80</td>\n",
       "      <td>3.06</td>\n",
       "      <td>0.28</td>\n",
       "      <td>2.29</td>\n",
       "      <td>5.64</td>\n",
       "      <td>1.04</td>\n",
       "      <td>3.92</td>\n",
       "      <td>1065.0</td>\n",
       "      <td>0</td>\n",
       "    </tr>\n",
       "    <tr>\n",
       "      <th>1</th>\n",
       "      <td>13.20</td>\n",
       "      <td>1.78</td>\n",
       "      <td>2.14</td>\n",
       "      <td>11.2</td>\n",
       "      <td>100.0</td>\n",
       "      <td>2.65</td>\n",
       "      <td>2.76</td>\n",
       "      <td>0.26</td>\n",
       "      <td>1.28</td>\n",
       "      <td>4.38</td>\n",
       "      <td>1.05</td>\n",
       "      <td>3.40</td>\n",
       "      <td>1050.0</td>\n",
       "      <td>0</td>\n",
       "    </tr>\n",
       "    <tr>\n",
       "      <th>2</th>\n",
       "      <td>13.16</td>\n",
       "      <td>2.36</td>\n",
       "      <td>2.67</td>\n",
       "      <td>18.6</td>\n",
       "      <td>101.0</td>\n",
       "      <td>2.80</td>\n",
       "      <td>3.24</td>\n",
       "      <td>0.30</td>\n",
       "      <td>2.81</td>\n",
       "      <td>5.68</td>\n",
       "      <td>1.03</td>\n",
       "      <td>3.17</td>\n",
       "      <td>1185.0</td>\n",
       "      <td>0</td>\n",
       "    </tr>\n",
       "    <tr>\n",
       "      <th>3</th>\n",
       "      <td>14.37</td>\n",
       "      <td>1.95</td>\n",
       "      <td>2.50</td>\n",
       "      <td>16.8</td>\n",
       "      <td>113.0</td>\n",
       "      <td>3.85</td>\n",
       "      <td>3.49</td>\n",
       "      <td>0.24</td>\n",
       "      <td>2.18</td>\n",
       "      <td>7.80</td>\n",
       "      <td>0.86</td>\n",
       "      <td>3.45</td>\n",
       "      <td>1480.0</td>\n",
       "      <td>0</td>\n",
       "    </tr>\n",
       "    <tr>\n",
       "      <th>4</th>\n",
       "      <td>13.24</td>\n",
       "      <td>2.59</td>\n",
       "      <td>2.87</td>\n",
       "      <td>21.0</td>\n",
       "      <td>118.0</td>\n",
       "      <td>2.80</td>\n",
       "      <td>2.69</td>\n",
       "      <td>0.39</td>\n",
       "      <td>1.82</td>\n",
       "      <td>4.32</td>\n",
       "      <td>1.04</td>\n",
       "      <td>2.93</td>\n",
       "      <td>735.0</td>\n",
       "      <td>0</td>\n",
       "    </tr>\n",
       "  </tbody>\n",
       "</table>\n",
       "</div>"
      ],
      "text/plain": [
       "   alcohol  malic_acid   ash  alcalinity_of_ash  magnesium  total_phenols  \\\n",
       "0    14.23        1.71  2.43               15.6      127.0           2.80   \n",
       "1    13.20        1.78  2.14               11.2      100.0           2.65   \n",
       "2    13.16        2.36  2.67               18.6      101.0           2.80   \n",
       "3    14.37        1.95  2.50               16.8      113.0           3.85   \n",
       "4    13.24        2.59  2.87               21.0      118.0           2.80   \n",
       "\n",
       "   flavanoids  nonflavanoid_phenols  proanthocyanins  color_intensity   hue  \\\n",
       "0        3.06                  0.28             2.29             5.64  1.04   \n",
       "1        2.76                  0.26             1.28             4.38  1.05   \n",
       "2        3.24                  0.30             2.81             5.68  1.03   \n",
       "3        3.49                  0.24             2.18             7.80  0.86   \n",
       "4        2.69                  0.39             1.82             4.32  1.04   \n",
       "\n",
       "   od280/od315_of_diluted_wines  proline  target  \n",
       "0                          3.92   1065.0       0  \n",
       "1                          3.40   1050.0       0  \n",
       "2                          3.17   1185.0       0  \n",
       "3                          3.45   1480.0       0  \n",
       "4                          2.93    735.0       0  "
      ]
     },
     "execution_count": 506,
     "metadata": {},
     "output_type": "execute_result"
    }
   ],
   "source": [
    "dff = pd.DataFrame(data.data, columns=data.feature_names)\n",
    "dff['target'] = pd.Series(data.target)\n",
    "dff.head()"
   ]
  },
  {
   "cell_type": "code",
   "execution_count": 507,
   "metadata": {},
   "outputs": [],
   "source": [
    "cols=[]\n",
    "for i in dff.columns:\n",
    "    if (i!='target'):\n",
    "        cols.append(i)"
   ]
  },
  {
   "cell_type": "code",
   "execution_count": 508,
   "metadata": {},
   "outputs": [],
   "source": [
    "labels = list(dff['target'].value_counts().index)"
   ]
  },
  {
   "cell_type": "code",
   "execution_count": 509,
   "metadata": {},
   "outputs": [],
   "source": [
    "from sklearn.model_selection import train_test_split\n",
    "train, test = train_test_split(dff,test_size=0.3, random_state=42)"
   ]
  },
  {
   "cell_type": "markdown",
   "metadata": {},
   "source": [
    "# plot the class-wise distribution of data in the train and test set"
   ]
  },
  {
   "cell_type": "code",
   "execution_count": 510,
   "metadata": {},
   "outputs": [
    {
     "data": {
      "text/plain": [
       "<AxesSubplot:>"
      ]
     },
     "execution_count": 510,
     "metadata": {},
     "output_type": "execute_result"
    },
    {
     "data": {
      "image/png": "[encoded data removed]",
      "text/plain": [
       "<Figure size 432x288 with 1 Axes>"
      ]
     },
     "metadata": {
      "needs_background": "light"
     },
     "output_type": "display_data"
    }
   ],
   "source": [
    "train['target'].value_counts().plot.bar()"
   ]
  },
  {
   "cell_type": "code",
   "execution_count": 511,
   "metadata": {},
   "outputs": [
    {
     "data": {
      "text/plain": [
       "<AxesSubplot:>"
      ]
     },
     "execution_count": 511,
     "metadata": {},
     "output_type": "execute_result"
    },
    {
     "data": {
      "image/png": "[encoded data removed]",
      "text/plain": [
       "<Figure size 432x288 with 1 Axes>"
      ]
     },
     "metadata": {
      "needs_background": "light"
     },
     "output_type": "display_data"
    }
   ],
   "source": [
    "test['target'].value_counts().plot.bar()"
   ]
  },
  {
   "cell_type": "code",
   "execution_count": 512,
   "metadata": {},
   "outputs": [],
   "source": [
    "classes = list(dff['target'].value_counts().index)\n",
    "classes_encode = [1,0,2]\n",
    "labels = dict(zip(classes,classes_encode))"
   ]
  },
  {
   "cell_type": "markdown",
   "metadata": {},
   "source": [
    "# report on class priors, mean and variance of each feature per class."
   ]
  },
  {
   "cell_type": "code",
   "execution_count": 513,
   "metadata": {
    "scrolled": false
   },
   "outputs": [
    {
     "name": "stdout",
     "output_type": "stream",
     "text": [
      "mean of class 1 for feature alcohol is 12.242800000000003\n",
      "std of class 1 for feature alcohol is 0.5686110538955824\n",
      "mean of class 0 for feature alcohol is 13.75025\n",
      "std of class 0 for feature alcohol is 0.5099295451585847\n",
      "mean of class 2 for feature alcohol is 13.097058823529412\n",
      "std of class 2 for feature alcohol is 0.5443012168062423\n",
      "***************************************************************************\n",
      "mean of class 1 for feature malic_acid is 2.0414000000000003\n",
      "std of class 1 for feature malic_acid is 1.0196398123547232\n",
      "mean of class 0 for feature malic_acid is 2.0\n",
      "std of class 0 for feature malic_acid is 0.6564707504175994\n",
      "mean of class 2 for feature malic_acid is 3.4088235294117646\n",
      "std of class 2 for feature malic_acid is 1.0191433262449352\n",
      "***************************************************************************\n",
      "mean of class 1 for feature ash is 2.2594\n",
      "std of class 1 for feature ash is 0.31791033262830065\n",
      "mean of class 0 for feature ash is 2.449\n",
      "std of class 0 for feature ash is 0.24206165775241267\n",
      "mean of class 2 for feature ash is 2.4273529411764705\n",
      "std of class 2 for feature ash is 0.16384228971843098\n",
      "***************************************************************************\n",
      "mean of class 1 for feature alcalinity_of_ash is 20.534000000000002\n",
      "std of class 1 for feature alcalinity_of_ash is 3.4396018991287054\n",
      "mean of class 0 for feature alcalinity_of_ash is 16.744999999999997\n",
      "std of class 0 for feature alcalinity_of_ash is 2.703743843123969\n",
      "mean of class 2 for feature alcalinity_of_ash is 21.220588235294116\n",
      "std of class 2 for feature alcalinity_of_ash is 2.2736673635027174\n",
      "***************************************************************************\n",
      "mean of class 1 for feature magnesium is 96.16\n",
      "std of class 1 for feature magnesium is 18.804428484063134\n",
      "mean of class 0 for feature magnesium is 107.75\n",
      "std of class 0 for feature magnesium is 10.635571663779274\n",
      "mean of class 2 for feature magnesium is 99.73529411764706\n",
      "std of class 2 for feature magnesium is 11.365308254906914\n",
      "***************************************************************************\n",
      "mean of class 1 for feature total_phenols is 2.241\n",
      "std of class 1 for feature total_phenols is 0.5877360576563154\n",
      "mean of class 0 for feature total_phenols is 2.85225\n",
      "std of class 0 for feature total_phenols is 0.3713419013420216\n",
      "mean of class 2 for feature total_phenols is 1.639705882352941\n",
      "std of class 2 for feature total_phenols is 0.30935402191250116\n",
      "***************************************************************************\n",
      "mean of class 1 for feature flavanoids is 2.0691999999999995\n",
      "std of class 1 for feature flavanoids is 0.7354794077223872\n",
      "mean of class 0 for feature flavanoids is 2.9795000000000003\n",
      "std of class 0 for feature flavanoids is 0.4149324937372034\n",
      "mean of class 2 for feature flavanoids is 0.7726470588235294\n",
      "std of class 2 for feature flavanoids is 0.2827602992098947\n",
      "***************************************************************************\n",
      "mean of class 1 for feature nonflavanoid_phenols is 0.3604\n",
      "std of class 1 for feature nonflavanoid_phenols is 0.1312103778872164\n",
      "mean of class 0 for feature nonflavanoid_phenols is 0.30225\n",
      "std of class 0 for feature nonflavanoid_phenols is 0.07498675096650621\n",
      "mean of class 2 for feature nonflavanoid_phenols is 0.44264705882352945\n",
      "std of class 2 for feature nonflavanoid_phenols is 0.1285421478697401\n",
      "***************************************************************************\n",
      "mean of class 1 for feature proanthocyanins is 1.6804000000000001\n",
      "std of class 1 for feature proanthocyanins is 0.619143450457887\n",
      "mean of class 0 for feature proanthocyanins is 1.9162500000000002\n",
      "std of class 0 for feature proanthocyanins is 0.4191792193665115\n",
      "mean of class 2 for feature proanthocyanins is 1.0841176470588234\n",
      "std of class 2 for feature proanthocyanins is 0.28124310250999474\n",
      "***************************************************************************\n",
      "mean of class 1 for feature color_intensity is 3.0848\n",
      "std of class 1 for feature color_intensity is 0.8617429892907958\n",
      "mean of class 0 for feature color_intensity is 5.44675\n",
      "std of class 0 for feature color_intensity is 1.225587012676385\n",
      "mean of class 2 for feature color_intensity is 7.196176470588235\n",
      "std of class 2 for feature color_intensity is 2.0484303150932974\n",
      "***************************************************************************\n",
      "mean of class 1 for feature hue is 1.05852\n",
      "std of class 1 for feature hue is 0.2203710451738622\n",
      "mean of class 0 for feature hue is 1.06425\n",
      "std of class 0 for feature hue is 0.11181228545865243\n",
      "mean of class 2 for feature hue is 0.69\n",
      "std of class 2 for feature hue is 0.11747340124470732\n",
      "***************************************************************************\n",
      "mean of class 1 for feature od280/od315_of_diluted_wines is 2.805\n",
      "std of class 1 for feature od280/od315_of_diluted_wines is 0.5057354717111889\n",
      "mean of class 0 for feature od280/od315_of_diluted_wines is 3.16175\n",
      "std of class 0 for feature od280/od315_of_diluted_wines is 0.36716437665871055\n",
      "mean of class 2 for feature od280/od315_of_diluted_wines is 1.6388235294117646\n",
      "std of class 2 for feature od280/od315_of_diluted_wines is 0.24070307001456898\n",
      "***************************************************************************\n",
      "mean of class 1 for feature proline is 526.38\n",
      "std of class 1 for feature proline is 162.30493975658214\n",
      "mean of class 0 for feature proline is 1092.55\n",
      "std of class 0 for feature proline is 225.41209555060001\n",
      "mean of class 2 for feature proline is 629.4117647058823\n",
      "std of class 2 for feature proline is 120.52137183719209\n",
      "***************************************************************************\n",
      "class 1 prior 0.4032258064516129\n",
      "class 0 prior 0.3225806451612903\n",
      "class 2 prior 0.27419354838709675\n"
     ]
    }
   ],
   "source": [
    "NB = NaiveBayes(train, cols,'target',labels)\n",
    "model = NB.fit(Report=True)"
   ]
  },
  {
   "cell_type": "code",
   "execution_count": 514,
   "metadata": {},
   "outputs": [],
   "source": [
    "features = test[cols].values"
   ]
  },
  {
   "cell_type": "code",
   "execution_count": 515,
   "metadata": {},
   "outputs": [],
   "source": [
    "preds, pblty_w = NB.predict(model,features,3)"
   ]
  },
  {
   "cell_type": "code",
   "execution_count": 516,
   "metadata": {},
   "outputs": [
    {
     "name": "stderr",
     "output_type": "stream",
     "text": [
      "C:\\Python\\Python36\\lib\\site-packages\\ipykernel_launcher.py:1: SettingWithCopyWarning: \n",
      "A value is trying to be set on a copy of a slice from a DataFrame.\n",
      "Try using .loc[row_indexer,col_indexer] = value instead\n",
      "\n",
      "See the caveats in the documentation: https://pandas.pydata.org/pandas-docs/stable/user_guide/indexing.html#returning-a-view-versus-a-copy\n",
      "  \"\"\"Entry point for launching an IPython kernel.\n"
     ]
    }
   ],
   "source": [
    "test['Predictions'] = preds"
   ]
  },
  {
   "cell_type": "code",
   "execution_count": 517,
   "metadata": {},
   "outputs": [
    {
     "data": {
      "text/plain": [
       "<AxesSubplot:>"
      ]
     },
     "execution_count": 517,
     "metadata": {},
     "output_type": "execute_result"
    },
    {
     "data": {
      "image/png": "[encoded data removed]",
      "text/plain": [
       "<Figure size 432x288 with 1 Axes>"
      ]
     },
     "metadata": {
      "needs_background": "light"
     },
     "output_type": "display_data"
    }
   ],
   "source": [
    "test['Predictions'].value_counts().plot.bar()"
   ]
  },
  {
   "cell_type": "code",
   "execution_count": 518,
   "metadata": {},
   "outputs": [],
   "source": [
    "def trigger(x,y):\n",
    "    if x==y:\n",
    "        return 1\n",
    "    else:\n",
    "        return 0\n",
    "    "
   ]
  },
  {
   "cell_type": "code",
   "execution_count": 519,
   "metadata": {},
   "outputs": [
    {
     "name": "stderr",
     "output_type": "stream",
     "text": [
      "C:\\Python\\Python36\\lib\\site-packages\\ipykernel_launcher.py:1: SettingWithCopyWarning: \n",
      "A value is trying to be set on a copy of a slice from a DataFrame.\n",
      "Try using .loc[row_indexer,col_indexer] = value instead\n",
      "\n",
      "See the caveats in the documentation: https://pandas.pydata.org/pandas-docs/stable/user_guide/indexing.html#returning-a-view-versus-a-copy\n",
      "  \"\"\"Entry point for launching an IPython kernel.\n"
     ]
    }
   ],
   "source": [
    "test['Trigger'] = test.apply(lambda x : trigger(x['target'],x['Predictions']), axis=1)"
   ]
  },
  {
   "cell_type": "code",
   "execution_count": 520,
   "metadata": {},
   "outputs": [
    {
     "data": {
      "text/plain": [
       "1    54\n",
       "Name: Trigger, dtype: int64"
      ]
     },
     "execution_count": 520,
     "metadata": {},
     "output_type": "execute_result"
    }
   ],
   "source": [
    "test['Trigger'].value_counts()"
   ]
  },
  {
   "cell_type": "code",
   "execution_count": 521,
   "metadata": {},
   "outputs": [],
   "source": [
    "overall_accuracy = test[test['Trigger']==1].shape[0]/test.shape[0]"
   ]
  },
  {
   "cell_type": "markdown",
   "metadata": {},
   "source": [
    "# overall accuracy"
   ]
  },
  {
   "cell_type": "code",
   "execution_count": 522,
   "metadata": {},
   "outputs": [
    {
     "name": "stdout",
     "output_type": "stream",
     "text": [
      "overall_accuracy 100.0\n"
     ]
    }
   ],
   "source": [
    "print('overall_accuracy', overall_accuracy*100)"
   ]
  },
  {
   "cell_type": "markdown",
   "metadata": {},
   "source": [
    "# class wise overall accuracy"
   ]
  },
  {
   "cell_type": "code",
   "execution_count": 523,
   "metadata": {},
   "outputs": [
    {
     "name": "stdout",
     "output_type": "stream",
     "text": [
      "1 class accuracy 100.0\n",
      "0 class accuracy 100.0\n",
      "2 class accuracy 100.0\n"
     ]
    }
   ],
   "source": [
    "for i in labels:\n",
    "    new_df = test[test['target']==i]\n",
    "    print(str(i)+' class accuracy', 100*new_df[new_df['Trigger']==1].shape[0]/new_df.shape[0])"
   ]
  },
  {
   "cell_type": "markdown",
   "metadata": {},
   "source": [
    "# confusion matrix"
   ]
  },
  {
   "cell_type": "code",
   "execution_count": 524,
   "metadata": {},
   "outputs": [
    {
     "data": {
      "text/html": [
       "<div>\n",
       "<style scoped>\n",
       "    .dataframe tbody tr th:only-of-type {\n",
       "        vertical-align: middle;\n",
       "    }\n",
       "\n",
       "    .dataframe tbody tr th {\n",
       "        vertical-align: top;\n",
       "    }\n",
       "\n",
       "    .dataframe thead th {\n",
       "        text-align: right;\n",
       "    }\n",
       "</style>\n",
       "<table border=\"1\" class=\"dataframe\">\n",
       "  <thead>\n",
       "    <tr style=\"text-align: right;\">\n",
       "      <th>Predictions</th>\n",
       "      <th>0</th>\n",
       "      <th>1</th>\n",
       "      <th>2</th>\n",
       "    </tr>\n",
       "    <tr>\n",
       "      <th>target</th>\n",
       "      <th></th>\n",
       "      <th></th>\n",
       "      <th></th>\n",
       "    </tr>\n",
       "  </thead>\n",
       "  <tbody>\n",
       "    <tr>\n",
       "      <th>0</th>\n",
       "      <td>19</td>\n",
       "      <td>0</td>\n",
       "      <td>0</td>\n",
       "    </tr>\n",
       "    <tr>\n",
       "      <th>1</th>\n",
       "      <td>0</td>\n",
       "      <td>21</td>\n",
       "      <td>0</td>\n",
       "    </tr>\n",
       "    <tr>\n",
       "      <th>2</th>\n",
       "      <td>0</td>\n",
       "      <td>0</td>\n",
       "      <td>14</td>\n",
       "    </tr>\n",
       "  </tbody>\n",
       "</table>\n",
       "</div>"
      ],
      "text/plain": [
       "Predictions   0   1   2\n",
       "target                 \n",
       "0            19   0   0\n",
       "1             0  21   0\n",
       "2             0   0  14"
      ]
     },
     "execution_count": 524,
     "metadata": {},
     "output_type": "execute_result"
    }
   ],
   "source": [
    "pd.crosstab(test['target'],test['Predictions'])"
   ]
  },
  {
   "cell_type": "markdown",
   "metadata": {},
   "source": [
    "# Class wise ROC Curve"
   ]
  },
  {
   "cell_type": "code",
   "execution_count": 526,
   "metadata": {},
   "outputs": [
    {
     "data": {
      "text/plain": [
       "Text(0.5, 1.0, 'Receiver operating characteristic example')"
      ]
     },
     "execution_count": 526,
     "metadata": {},
     "output_type": "execute_result"
    },
    {
     "data": {
      "image/png": "[encoded data removed]",
      "text/plain": [
       "<Figure size 432x288 with 1 Axes>"
      ]
     },
     "metadata": {
      "needs_background": "light"
     },
     "output_type": "display_data"
    }
   ],
   "source": [
    "for i in [0,1,2]:\n",
    "    threshold=[]\n",
    "    fpr_l=[]\n",
    "    tpr_l=[]\n",
    "    threshold.append(0.0)\n",
    "    fpr_l.append(1.0)\n",
    "    tpr_l.append(1.0)\n",
    "    for t in np.array(list(range(1,100,1)))/100:\n",
    "        fpr, tpr, _, _ = fpr_tpr(pblty_w,i,test['target'].values.tolist(),t)\n",
    "        threshold.append(t)\n",
    "        fpr_l.append(fpr)\n",
    "        tpr_l.append(tpr)\n",
    "    threshold.append(2.0)\n",
    "    fpr_l.append(0.0)\n",
    "    tpr_l.append(0.0)\n",
    "    new_df = pd.DataFrame()\n",
    "    new_df['threshold'] = threshold\n",
    "    new_df['x'] = fpr_l\n",
    "    new_df['y'] = tpr_l\n",
    "    plt.plot(new_df.x,new_df.y, label='class'+str(i)+' AUC '+str(round(1-abs(np.trapz(new_df.x,new_df.y)),2)))\n",
    "    plt.plot([0,1])\n",
    "    plt.legend(loc=\"lower right\")\n",
    "    from sklearn.metrics import roc_auc_score\n",
    "    print(roc_auc_score(actual_a,prob_a))\n",
    "plt.xlabel('False Positive Rate')\n",
    "plt.ylabel('True Positive Rate')\n",
    "plt.title('Receiver operating characteristic example')"
   ]
  },
  {
   "cell_type": "code",
   "execution_count": null,
   "metadata": {},
   "outputs": [],
   "source": []
  },
  {
   "cell_type": "code",
   "execution_count": null,
   "metadata": {},
   "outputs": [],
   "source": []
  },
  {
   "cell_type": "code",
   "execution_count": null,
   "metadata": {},
   "outputs": [],
   "source": []
  },
  {
   "cell_type": "markdown",
   "metadata": {},
   "source": [
    "# (b) \n",
    "Train another Gaussian Naive Bayes classifier by setting prior probability for the classes. Repeat this\n",
    "experiment by setting priors in the ratios: (a) 40-40-20 and (b) 80-10-10."
   ]
  },
  {
   "cell_type": "markdown",
   "metadata": {},
   "source": [
    "# (a) 40-40-20"
   ]
  },
  {
   "cell_type": "code",
   "execution_count": 461,
   "metadata": {},
   "outputs": [],
   "source": [
    "model[0] = 40\n",
    "model[1] = 40\n",
    "model[2] = 20"
   ]
  },
  {
   "cell_type": "code",
   "execution_count": 463,
   "metadata": {},
   "outputs": [],
   "source": [
    "preds, pblty_w  = NB.predict(model,features,3)"
   ]
  },
  {
   "cell_type": "code",
   "execution_count": 464,
   "metadata": {},
   "outputs": [
    {
     "name": "stderr",
     "output_type": "stream",
     "text": [
      "C:\\Python\\Python36\\lib\\site-packages\\ipykernel_launcher.py:1: SettingWithCopyWarning: \n",
      "A value is trying to be set on a copy of a slice from a DataFrame.\n",
      "Try using .loc[row_indexer,col_indexer] = value instead\n",
      "\n",
      "See the caveats in the documentation: https://pandas.pydata.org/pandas-docs/stable/user_guide/indexing.html#returning-a-view-versus-a-copy\n",
      "  \"\"\"Entry point for launching an IPython kernel.\n"
     ]
    }
   ],
   "source": [
    "test['Predictions'] = preds"
   ]
  },
  {
   "cell_type": "code",
   "execution_count": 465,
   "metadata": {},
   "outputs": [
    {
     "data": {
      "text/plain": [
       "<AxesSubplot:>"
      ]
     },
     "execution_count": 465,
     "metadata": {},
     "output_type": "execute_result"
    },
    {
     "data": {
      "image/png": "[encoded data removed]",
      "text/plain": [
       "<Figure size 432x288 with 1 Axes>"
      ]
     },
     "metadata": {
      "needs_background": "light"
     },
     "output_type": "display_data"
    }
   ],
   "source": [
    "test['Predictions'].value_counts().plot.bar()"
   ]
  },
  {
   "cell_type": "code",
   "execution_count": 466,
   "metadata": {},
   "outputs": [
    {
     "name": "stderr",
     "output_type": "stream",
     "text": [
      "C:\\Python\\Python36\\lib\\site-packages\\ipykernel_launcher.py:1: SettingWithCopyWarning: \n",
      "A value is trying to be set on a copy of a slice from a DataFrame.\n",
      "Try using .loc[row_indexer,col_indexer] = value instead\n",
      "\n",
      "See the caveats in the documentation: https://pandas.pydata.org/pandas-docs/stable/user_guide/indexing.html#returning-a-view-versus-a-copy\n",
      "  \"\"\"Entry point for launching an IPython kernel.\n"
     ]
    }
   ],
   "source": [
    "test['Trigger'] = test.apply(lambda x : trigger(x['target'],x['Predictions']), axis=1)"
   ]
  },
  {
   "cell_type": "markdown",
   "metadata": {},
   "source": [
    "# overall accuracy"
   ]
  },
  {
   "cell_type": "code",
   "execution_count": 467,
   "metadata": {},
   "outputs": [
    {
     "name": "stdout",
     "output_type": "stream",
     "text": [
      "overall_accuracy 98.14814814814815\n"
     ]
    }
   ],
   "source": [
    "overall_accuracy = test[test['Trigger']==1].shape[0]/test.shape[0]\n",
    "print('overall_accuracy', overall_accuracy*100)"
   ]
  },
  {
   "cell_type": "markdown",
   "metadata": {},
   "source": [
    "# class wise accuracy"
   ]
  },
  {
   "cell_type": "code",
   "execution_count": 468,
   "metadata": {},
   "outputs": [
    {
     "name": "stdout",
     "output_type": "stream",
     "text": [
      "1 class accuracy 95.23809523809524\n",
      "0 class accuracy 100.0\n",
      "2 class accuracy 100.0\n"
     ]
    }
   ],
   "source": [
    "for i in labels:\n",
    "    new_df = test[test['target']==i]\n",
    "    print(str(i)+' class accuracy', 100*new_df[new_df['Trigger']==1].shape[0]/new_df.shape[0])"
   ]
  },
  {
   "cell_type": "markdown",
   "metadata": {},
   "source": [
    "# confusion matrix"
   ]
  },
  {
   "cell_type": "code",
   "execution_count": 469,
   "metadata": {},
   "outputs": [
    {
     "data": {
      "text/html": [
       "<div>\n",
       "<style scoped>\n",
       "    .dataframe tbody tr th:only-of-type {\n",
       "        vertical-align: middle;\n",
       "    }\n",
       "\n",
       "    .dataframe tbody tr th {\n",
       "        vertical-align: top;\n",
       "    }\n",
       "\n",
       "    .dataframe thead th {\n",
       "        text-align: right;\n",
       "    }\n",
       "</style>\n",
       "<table border=\"1\" class=\"dataframe\">\n",
       "  <thead>\n",
       "    <tr style=\"text-align: right;\">\n",
       "      <th>Predictions</th>\n",
       "      <th>0</th>\n",
       "      <th>1</th>\n",
       "      <th>2</th>\n",
       "    </tr>\n",
       "    <tr>\n",
       "      <th>target</th>\n",
       "      <th></th>\n",
       "      <th></th>\n",
       "      <th></th>\n",
       "    </tr>\n",
       "  </thead>\n",
       "  <tbody>\n",
       "    <tr>\n",
       "      <th>0</th>\n",
       "      <td>19</td>\n",
       "      <td>0</td>\n",
       "      <td>0</td>\n",
       "    </tr>\n",
       "    <tr>\n",
       "      <th>1</th>\n",
       "      <td>1</td>\n",
       "      <td>20</td>\n",
       "      <td>0</td>\n",
       "    </tr>\n",
       "    <tr>\n",
       "      <th>2</th>\n",
       "      <td>0</td>\n",
       "      <td>0</td>\n",
       "      <td>14</td>\n",
       "    </tr>\n",
       "  </tbody>\n",
       "</table>\n",
       "</div>"
      ],
      "text/plain": [
       "Predictions   0   1   2\n",
       "target                 \n",
       "0            19   0   0\n",
       "1             1  20   0\n",
       "2             0   0  14"
      ]
     },
     "execution_count": 469,
     "metadata": {},
     "output_type": "execute_result"
    }
   ],
   "source": [
    "pd.crosstab(test['target'],test['Predictions'])"
   ]
  },
  {
   "cell_type": "markdown",
   "metadata": {},
   "source": [
    "# class wise ROC curve"
   ]
  },
  {
   "cell_type": "code",
   "execution_count": 527,
   "metadata": {},
   "outputs": [
    {
     "data": {
      "text/plain": [
       "Text(0.5, 1.0, 'Receiver operating characteristic example')"
      ]
     },
     "execution_count": 527,
     "metadata": {},
     "output_type": "execute_result"
    },
    {
     "data": {
      "image/png": "[encoded data removed]",
      "text/plain": [
       "<Figure size 432x288 with 1 Axes>"
      ]
     },
     "metadata": {
      "needs_background": "light"
     },
     "output_type": "display_data"
    }
   ],
   "source": [
    "for i in [0,1,2]:\n",
    "    threshold=[]\n",
    "    fpr_l=[]\n",
    "    tpr_l=[]\n",
    "    threshold.append(0.0)\n",
    "    fpr_l.append(1.0)\n",
    "    tpr_l.append(1.0)\n",
    "    for t in np.array(list(range(1,100,5)))/100:\n",
    "        fpr, tpr, _, _ = fpr_tpr(pblty_w,i,test['target'].values.tolist(),t)\n",
    "        threshold.append(t)\n",
    "        fpr_l.append(fpr)\n",
    "        tpr_l.append(tpr)\n",
    "    threshold.append(2.0)\n",
    "    fpr_l.append(0.0)\n",
    "    tpr_l.append(0.0)\n",
    "    new_df = pd.DataFrame()\n",
    "    new_df['threshold'] = threshold\n",
    "    new_df['x'] = fpr_l\n",
    "    new_df['y'] = tpr_l\n",
    "    plt.plot(new_df.x,new_df.y, label='class'+str(i)+' AUC '+str(round(1-abs(np.trapz(new_df.x,new_df.y)),2)))\n",
    "    plt.plot([0,1])\n",
    "    plt.legend(loc=\"lower right\")\n",
    "plt.xlabel('False Positive Rate')\n",
    "plt.ylabel('True Positive Rate')\n",
    "plt.title('Receiver operating characteristic example')"
   ]
  },
  {
   "cell_type": "code",
   "execution_count": null,
   "metadata": {},
   "outputs": [],
   "source": []
  },
  {
   "cell_type": "code",
   "execution_count": null,
   "metadata": {},
   "outputs": [],
   "source": []
  },
  {
   "cell_type": "code",
   "execution_count": null,
   "metadata": {},
   "outputs": [],
   "source": []
  },
  {
   "cell_type": "code",
   "execution_count": null,
   "metadata": {},
   "outputs": [],
   "source": []
  },
  {
   "cell_type": "markdown",
   "metadata": {},
   "source": [
    "# (b) 80-10-10."
   ]
  },
  {
   "cell_type": "code",
   "execution_count": 528,
   "metadata": {},
   "outputs": [],
   "source": [
    "model[0] = 80\n",
    "model[1] = 10\n",
    "model[2] = 10"
   ]
  },
  {
   "cell_type": "code",
   "execution_count": 529,
   "metadata": {},
   "outputs": [],
   "source": [
    "preds, pblty_w = NB.predict(model,features,3)"
   ]
  },
  {
   "cell_type": "code",
   "execution_count": 530,
   "metadata": {},
   "outputs": [
    {
     "name": "stderr",
     "output_type": "stream",
     "text": [
      "C:\\Python\\Python36\\lib\\site-packages\\ipykernel_launcher.py:1: SettingWithCopyWarning: \n",
      "A value is trying to be set on a copy of a slice from a DataFrame.\n",
      "Try using .loc[row_indexer,col_indexer] = value instead\n",
      "\n",
      "See the caveats in the documentation: https://pandas.pydata.org/pandas-docs/stable/user_guide/indexing.html#returning-a-view-versus-a-copy\n",
      "  \"\"\"Entry point for launching an IPython kernel.\n",
      "C:\\Python\\Python36\\lib\\site-packages\\ipykernel_launcher.py:2: SettingWithCopyWarning: \n",
      "A value is trying to be set on a copy of a slice from a DataFrame.\n",
      "Try using .loc[row_indexer,col_indexer] = value instead\n",
      "\n",
      "See the caveats in the documentation: https://pandas.pydata.org/pandas-docs/stable/user_guide/indexing.html#returning-a-view-versus-a-copy\n",
      "  \n"
     ]
    }
   ],
   "source": [
    "test['Predictions'] = preds\n",
    "test['Trigger'] = test.apply(lambda x : trigger(x['target'],x['Predictions']), axis=1)"
   ]
  },
  {
   "cell_type": "code",
   "execution_count": 531,
   "metadata": {},
   "outputs": [
    {
     "data": {
      "text/plain": [
       "<AxesSubplot:>"
      ]
     },
     "execution_count": 531,
     "metadata": {},
     "output_type": "execute_result"
    },
    {
     "data": {
      "image/png": "[encoded data removed]",
      "text/plain": [
       "<Figure size 432x288 with 1 Axes>"
      ]
     },
     "metadata": {
      "needs_background": "light"
     },
     "output_type": "display_data"
    }
   ],
   "source": [
    "test['Predictions'].value_counts().plot.bar()"
   ]
  },
  {
   "cell_type": "markdown",
   "metadata": {},
   "source": [
    "# overall accuracy"
   ]
  },
  {
   "cell_type": "code",
   "execution_count": 532,
   "metadata": {},
   "outputs": [
    {
     "name": "stdout",
     "output_type": "stream",
     "text": [
      "overall_accuracy 96.29629629629629\n"
     ]
    }
   ],
   "source": [
    "overall_accuracy = test[test['Trigger']==1].shape[0]/test.shape[0]\n",
    "print('overall_accuracy', overall_accuracy*100)"
   ]
  },
  {
   "cell_type": "markdown",
   "metadata": {},
   "source": [
    "# class wise accuracy"
   ]
  },
  {
   "cell_type": "code",
   "execution_count": 533,
   "metadata": {},
   "outputs": [
    {
     "name": "stdout",
     "output_type": "stream",
     "text": [
      "1 class accuracy 90.47619047619048\n",
      "0 class accuracy 100.0\n",
      "2 class accuracy 100.0\n"
     ]
    }
   ],
   "source": [
    "for i in labels:\n",
    "    new_df = test[test['target']==i]\n",
    "    print(str(i)+' class accuracy', 100*new_df[new_df['Trigger']==1].shape[0]/new_df.shape[0])"
   ]
  },
  {
   "cell_type": "markdown",
   "metadata": {},
   "source": [
    "# confusion matrix"
   ]
  },
  {
   "cell_type": "code",
   "execution_count": 534,
   "metadata": {},
   "outputs": [
    {
     "data": {
      "text/html": [
       "<div>\n",
       "<style scoped>\n",
       "    .dataframe tbody tr th:only-of-type {\n",
       "        vertical-align: middle;\n",
       "    }\n",
       "\n",
       "    .dataframe tbody tr th {\n",
       "        vertical-align: top;\n",
       "    }\n",
       "\n",
       "    .dataframe thead th {\n",
       "        text-align: right;\n",
       "    }\n",
       "</style>\n",
       "<table border=\"1\" class=\"dataframe\">\n",
       "  <thead>\n",
       "    <tr style=\"text-align: right;\">\n",
       "      <th>Predictions</th>\n",
       "      <th>0</th>\n",
       "      <th>1</th>\n",
       "      <th>2</th>\n",
       "    </tr>\n",
       "    <tr>\n",
       "      <th>target</th>\n",
       "      <th></th>\n",
       "      <th></th>\n",
       "      <th></th>\n",
       "    </tr>\n",
       "  </thead>\n",
       "  <tbody>\n",
       "    <tr>\n",
       "      <th>0</th>\n",
       "      <td>19</td>\n",
       "      <td>0</td>\n",
       "      <td>0</td>\n",
       "    </tr>\n",
       "    <tr>\n",
       "      <th>1</th>\n",
       "      <td>2</td>\n",
       "      <td>19</td>\n",
       "      <td>0</td>\n",
       "    </tr>\n",
       "    <tr>\n",
       "      <th>2</th>\n",
       "      <td>0</td>\n",
       "      <td>0</td>\n",
       "      <td>14</td>\n",
       "    </tr>\n",
       "  </tbody>\n",
       "</table>\n",
       "</div>"
      ],
      "text/plain": [
       "Predictions   0   1   2\n",
       "target                 \n",
       "0            19   0   0\n",
       "1             2  19   0\n",
       "2             0   0  14"
      ]
     },
     "execution_count": 534,
     "metadata": {},
     "output_type": "execute_result"
    }
   ],
   "source": [
    "pd.crosstab(test['target'],test['Predictions'])"
   ]
  },
  {
   "cell_type": "markdown",
   "metadata": {},
   "source": [
    "# class wise ROC curve"
   ]
  },
  {
   "cell_type": "code",
   "execution_count": 535,
   "metadata": {},
   "outputs": [
    {
     "data": {
      "text/plain": [
       "Text(0.5, 1.0, 'Receiver operating characteristic example')"
      ]
     },
     "execution_count": 535,
     "metadata": {},
     "output_type": "execute_result"
    },
    {
     "data": {
      "image/png": "[encoded data removed]",
      "text/plain": [
       "<Figure size 432x288 with 1 Axes>"
      ]
     },
     "metadata": {
      "needs_background": "light"
     },
     "output_type": "display_data"
    }
   ],
   "source": [
    "for i in [0,1,2]:\n",
    "    threshold=[]\n",
    "    fpr_l=[]\n",
    "    tpr_l=[]\n",
    "    threshold.append(0.0)\n",
    "    fpr_l.append(1.0)\n",
    "    tpr_l.append(1.0)\n",
    "    for t in np.array(list(range(1,100,5)))/100:\n",
    "        fpr, tpr, _, _ = fpr_tpr(pblty_w,i,test['target'].values.tolist(),t)\n",
    "        threshold.append(t)\n",
    "        fpr_l.append(fpr)\n",
    "        tpr_l.append(tpr)\n",
    "    threshold.append(2.0)\n",
    "    fpr_l.append(0.0)\n",
    "    tpr_l.append(0.0)\n",
    "    new_df = pd.DataFrame()\n",
    "    new_df['threshold'] = threshold\n",
    "    new_df['x'] = fpr_l\n",
    "    new_df['y'] = tpr_l\n",
    "    plt.plot(new_df.x,new_df.y, label='class'+str(i)+' AUC '+str(round(1-abs(np.trapz(new_df.x,new_df.y)),2)))\n",
    "    plt.plot([0,1])\n",
    "    plt.legend(loc=\"lower right\")\n",
    "plt.xlabel('False Positive Rate')\n",
    "plt.ylabel('True Positive Rate')\n",
    "plt.title('Receiver operating characteristic example')"
   ]
  },
  {
   "cell_type": "code",
   "execution_count": null,
   "metadata": {},
   "outputs": [],
   "source": []
  },
  {
   "cell_type": "code",
   "execution_count": null,
   "metadata": {},
   "outputs": [],
   "source": []
  },
  {
   "cell_type": "code",
   "execution_count": 1,
   "metadata": {},
   "outputs": [],
   "source": [
    "import pandas as pd"
   ]
  },
  {
   "cell_type": "code",
   "execution_count": 2,
   "metadata": {},
   "outputs": [],
   "source": [
    "pdf = pd.DataFrame()"
   ]
  },
  {
   "cell_type": "code",
   "execution_count": 3,
   "metadata": {},
   "outputs": [],
   "source": [
    "pdf['a'] = [2490,2510,2360,2410,2300,2400]"
   ]
  },
  {
   "cell_type": "code",
   "execution_count": 4,
   "metadata": {},
   "outputs": [
    {
     "data": {
      "text/html": [
       "<div>\n",
       "<style scoped>\n",
       "    .dataframe tbody tr th:only-of-type {\n",
       "        vertical-align: middle;\n",
       "    }\n",
       "\n",
       "    .dataframe tbody tr th {\n",
       "        vertical-align: top;\n",
       "    }\n",
       "\n",
       "    .dataframe thead th {\n",
       "        text-align: right;\n",
       "    }\n",
       "</style>\n",
       "<table border=\"1\" class=\"dataframe\">\n",
       "  <thead>\n",
       "    <tr style=\"text-align: right;\">\n",
       "      <th></th>\n",
       "      <th>a</th>\n",
       "    </tr>\n",
       "  </thead>\n",
       "  <tbody>\n",
       "    <tr>\n",
       "      <th>count</th>\n",
       "      <td>6.000000</td>\n",
       "    </tr>\n",
       "    <tr>\n",
       "      <th>mean</th>\n",
       "      <td>2411.666667</td>\n",
       "    </tr>\n",
       "    <tr>\n",
       "      <th>std</th>\n",
       "      <td>78.845841</td>\n",
       "    </tr>\n",
       "    <tr>\n",
       "      <th>min</th>\n",
       "      <td>2300.000000</td>\n",
       "    </tr>\n",
       "    <tr>\n",
       "      <th>25%</th>\n",
       "      <td>2370.000000</td>\n",
       "    </tr>\n",
       "    <tr>\n",
       "      <th>50%</th>\n",
       "      <td>2405.000000</td>\n",
       "    </tr>\n",
       "    <tr>\n",
       "      <th>75%</th>\n",
       "      <td>2470.000000</td>\n",
       "    </tr>\n",
       "    <tr>\n",
       "      <th>max</th>\n",
       "      <td>2510.000000</td>\n",
       "    </tr>\n",
       "  </tbody>\n",
       "</table>\n",
       "</div>"
      ],
      "text/plain": [
       "                 a\n",
       "count     6.000000\n",
       "mean   2411.666667\n",
       "std      78.845841\n",
       "min    2300.000000\n",
       "25%    2370.000000\n",
       "50%    2405.000000\n",
       "75%    2470.000000\n",
       "max    2510.000000"
      ]
     },
     "execution_count": 4,
     "metadata": {},
     "output_type": "execute_result"
    }
   ],
   "source": [
    "pdf.describe()"
   ]
  },
  {
   "cell_type": "code",
   "execution_count": null,
   "metadata": {},
   "outputs": [],
   "source": []
  }
 ],
 "metadata": {
  "kernelspec": {
   "display_name": "Python 3",
   "language": "python",
   "name": "python3"
  },
  "language_info": {
   "codemirror_mode": {
    "name": "ipython",
    "version": 3
   },
   "file_extension": ".py",
   "mimetype": "text/x-python",
   "name": "python",
   "nbconvert_exporter": "python",
   "pygments_lexer": "ipython3",
   "version": "3.6.4"
  }
 },
 "nbformat": 4,
 "nbformat_minor": 4
}
